{
 "cells": [
  {
   "cell_type": "code",
   "execution_count": 11,
   "metadata": {},
   "outputs": [
    {
     "name": "stdout",
     "output_type": "stream",
     "text": [
      "Predicted Crop Yield: 289.12 kg/ha\n"
     ]
    }
   ],
   "source": [
    "import joblib\n",
    "import numpy as np\n",
    "import pandas as pd\n",
    "\n",
    "# Load the model and scaler\n",
    "loaded_model = joblib.load(\"crop_yield_model.pkl\")\n",
    "loaded_scaler = joblib.load(\"scaler.pkl\")\n",
    "\n",
    "# Load dataset to get expected column order\n",
    "df = pd.read_csv(\"crop_yield_dataset.csv\")\n",
    "X = df.drop(columns=[\"Yield\"])  # Ensure same features used in training\n",
    "\n",
    "# Sample input (modify based on feature order)\n",
    "sample_data = pd.DataFrame([[12,58,28,6.1,34.4,76.2,45,5.3,1,51,1]], columns=X.columns)\n",
    "\n",
    "# Apply same transformation\n",
    "sample_data_scaled = loaded_scaler.transform(sample_data)\n",
    "\n",
    "# Predict yield\n",
    "predicted_yield = loaded_model.predict(sample_data_scaled)\n",
    "print(f\"Predicted Crop Yield: {predicted_yield[0]:.2f} kg/ha\")\n",
    "\n"
   ]
  },
  {
   "cell_type": "code",
   "execution_count": null,
   "metadata": {},
   "outputs": [],
   "source": []
  },
  {
   "cell_type": "code",
   "execution_count": null,
   "metadata": {},
   "outputs": [],
   "source": []
  }
 ],
 "metadata": {
  "kernelspec": {
   "display_name": "Python 3",
   "language": "python",
   "name": "python3"
  },
  "language_info": {
   "codemirror_mode": {
    "name": "ipython",
    "version": 3
   },
   "file_extension": ".py",
   "mimetype": "text/x-python",
   "name": "python",
   "nbconvert_exporter": "python",
   "pygments_lexer": "ipython3",
   "version": "3.12.0"
  }
 },
 "nbformat": 4,
 "nbformat_minor": 2
}
